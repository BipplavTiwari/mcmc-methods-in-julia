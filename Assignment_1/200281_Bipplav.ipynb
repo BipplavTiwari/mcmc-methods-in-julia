{
 "cells": [
  {
   "cell_type": "code",
   "execution_count": 20,
   "metadata": {},
   "outputs": [],
   "source": [
    "using Distributions\n",
    "using StatsPlots"
   ]
  },
  {
   "cell_type": "code",
   "execution_count": 22,
   "metadata": {},
   "outputs": [
    {
     "data": {
      "text/plain": [
       "poisson (generic function with 1 method)"
      ]
     },
     "execution_count": 22,
     "metadata": {},
     "output_type": "execute_result"
    }
   ],
   "source": [
    "# Implementation of Algorithm 3 from https://dvats.github.io/assets/course/mth511/notes/W2L3_notes.pdf\n",
    "function poisson(lambda)\n",
    "    U = rand(Uniform(0,1))\n",
    "    i = 0\n",
    "    p = exp(-lambda)\n",
    "    A = p\n",
    "    while true\n",
    "        if U < A\n",
    "            return i\n",
    "        else\n",
    "            p = lambda*p/(i+1)\n",
    "            A = A + p\n",
    "            i = i + 1\n",
    "        end\n",
    "    end   \n",
    "end"
   ]
  },
  {
   "cell_type": "code",
   "execution_count": 23,
   "metadata": {},
   "outputs": [
    {
     "name": "stdout",
     "output_type": "stream",
     "text": [
      "Actual mean is 3.9974 and theoretical value of mean is 4\n",
      "Actual variance is 3.9555932400000007 and theoretical value of mean is 4"
     ]
    }
   ],
   "source": [
    "array_poisson = []\n",
    "count_poisson = 10000\n",
    "no_of_samples_poisson = count_poisson\n",
    "\n",
    "#You may change the value of _lambda from here \n",
    "_lambda = 4\n",
    "\n",
    "actual_mean_poisson = 0\n",
    "actual_variance_poission = 0\n",
    "\n",
    "while count_poisson>0\n",
    "    x = poisson(_lambda)\n",
    "    push!(array_poisson, x)\n",
    "    global actual_mean_poisson = actual_mean_poisson + x\n",
    "    global actual_variance_poission = actual_variance_poission + x*x\n",
    "    global count_poisson = count_poisson - 1 \n",
    "end\n",
    "\n",
    "actual_mean_poisson = actual_mean_poisson/no_of_samples_poisson\n",
    "actual_variance_poission = actual_variance_poission/no_of_samples_poisson\n",
    "actual_variance_poission = actual_variance_poission - (actual_mean_poisson*actual_mean_poisson)\n",
    "\n",
    "print(\"Actual mean is \")\n",
    "print(actual_mean_poisson) \n",
    "print(\" and theoretical value of mean is \")\n",
    "print(_lambda)\n",
    "print(\"\\nActual variance is \")\n",
    "print(actual_variance_poission) \n",
    "print(\" and theoretical value of mean is \")\n",
    "print(_lambda)\n",
    "\n",
    "histogram(array_poisson, bins = 23)\n",
    "savefig(\"poisson.pdf\")"
   ]
  },
  {
   "cell_type": "code",
   "execution_count": 24,
   "metadata": {},
   "outputs": [
    {
     "data": {
      "text/plain": [
       "_Binomial (generic function with 1 method)"
      ]
     },
     "execution_count": 24,
     "metadata": {},
     "output_type": "execute_result"
    }
   ],
   "source": [
    "# Inspired by Algorithm 1 and exapmle 1 of https://dvats.github.io/assets/course/mth511/notes/W2L4_notes.pdf\n",
    "function _Binomial(_n,p)\n",
    "    c = -1000\n",
    "    i = 0\n",
    "    lambda = _n*p\n",
    "    while i<=_n\n",
    "        c = max((factorial(_n)*exp(lambda)*((1-p)^(_n-i))*(p^i))/(factorial(_n-i)*(lambda^i)),c)\n",
    "        i = i+1\n",
    "    end\n",
    "    # The above loop computes c\n",
    "    while true\n",
    "        U = rand(Uniform(0,1))\n",
    "        y = poisson(lambda)\n",
    "        py = (factorial(_n)*((1-p)^(_n-y))*(p^y))/(factorial(_n-y)*factorial(y))\n",
    "        qy = ((lambda^y)*(exp(-lambda)))/(factorial(y))\n",
    "        z = py/(c*qy)\n",
    "        if U<z\n",
    "            return y\n",
    "        end\n",
    "    end\n",
    "end "
   ]
  },
  {
   "cell_type": "code",
   "execution_count": 26,
   "metadata": {},
   "outputs": [
    {
     "ename": "LoadError",
     "evalue": "DomainError with -1:\n`n` must not be negative.",
     "output_type": "error",
     "traceback": [
      "DomainError with -1:\n`n` must not be negative.",
      "",
      "Stacktrace:",
      " [1] factorial_lookup",
      "   @ .\\combinatorics.jl:18 [inlined]",
      " [2] factorial",
      "   @ .\\combinatorics.jl:27 [inlined]",
      " [3] _Binomial(_n::Int64, p::Float64)",
      "   @ Main .\\In[24]:14",
      " [4] top-level scope",
      "   @ .\\In[26]:12",
      " [5] eval",
      "   @ .\\boot.jl:360 [inlined]",
      " [6] include_string(mapexpr::typeof(REPL.softscope), mod::Module, code::String, filename::String)",
      "   @ Base .\\loading.jl:1116"
     ]
    }
   ],
   "source": [
    "array_binomial = []\n",
    "count_binomial = 1000\n",
    "no_of_samples_binomial = count_binomial\n",
    "actual_mean_binomial = 0\n",
    "actual_variance_binomial = 0\n",
    "\n",
    "# You may modify the below values as per your convinience\n",
    "n = 15\n",
    "p = 0.25\n",
    "\n",
    "while count_binomial>0\n",
    "    x = _Binomial(n,p)\n",
    "    global actual_mean_binomial = actual_mean_binomial + x\n",
    "    global actual_variance_binomial = actual_variance_binomial + x*x\n",
    "    push!(array_binomial , x)\n",
    "    global count_binomial = count_binomial - 1 \n",
    "end\n",
    "\n",
    "actual_mean_binomial = actual_mean_binomial/no_of_samples_binomial\n",
    "actual_variance_binomial = actual_variance_binomial/no_of_samples_binomial\n",
    "actual_variance_binomial = actual_variance_binomial - (actual_mean_binomial*actual_mean_binomial)\n",
    "\n",
    "print(\"Actual value of mean is \")\n",
    "print(actual_mean_binomial)\n",
    "print(\" and theoretical value of mean is \")\n",
    "print(n*p)  \n",
    "print(\"\\nActual value of variance is \")\n",
    "print(actual_variance_binomial)\n",
    "print(\"and theoretical value of variance is \")\n",
    "print(n*p*(1-p))\n",
    "\n",
    "histogram(array_binomial, bins = 10)\n",
    "savefig(\"Binomial.pdf\")"
   ]
  }
 ],
 "metadata": {
  "kernelspec": {
   "display_name": "Julia 1.6.6",
   "language": "julia",
   "name": "julia-1.6"
  },
  "language_info": {
   "file_extension": ".jl",
   "mimetype": "application/julia",
   "name": "julia",
   "version": "1.6.6"
  },
  "orig_nbformat": 4
 },
 "nbformat": 4,
 "nbformat_minor": 2
}
